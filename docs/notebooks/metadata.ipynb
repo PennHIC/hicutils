{
 "cells": [
  {
   "cell_type": "code",
   "execution_count": 2,
   "id": "1e6eaa2a-aea4-4abb-a5fc-0f45c54d6882",
   "metadata": {},
   "outputs": [],
   "source": [
    "from hicutils.core import io, metadata\n",
    "import hicutils.core.pooling as pooling\n",
    "import hicutils.core.filters as filters\n",
    "import hicutils.plots as plots\n",
    "\n",
    "df = io.read_directory('../example_data_immunedb')"
   ]
  },
  {
   "cell_type": "markdown",
   "id": "9a9035ec-d86d-4f7e-9051-9eeeea437a31",
   "metadata": {},
   "source": [
    "## Generate a metadata table by replicate"
   ]
  },
  {
   "cell_type": "code",
   "execution_count": 3,
   "id": "fda73631-08c9-4a2d-afae-5755e3e81a17",
   "metadata": {},
   "outputs": [
    {
     "data": {
      "text/html": [
       "<div>\n",
       "<style scoped>\n",
       "    .dataframe tbody tr th:only-of-type {\n",
       "        vertical-align: middle;\n",
       "    }\n",
       "\n",
       "    .dataframe tbody tr th {\n",
       "        vertical-align: top;\n",
       "    }\n",
       "\n",
       "    .dataframe thead th {\n",
       "        text-align: right;\n",
       "    }\n",
       "</style>\n",
       "<table border=\"1\" class=\"dataframe\">\n",
       "  <thead>\n",
       "    <tr style=\"text-align: right;\">\n",
       "      <th></th>\n",
       "      <th>uniques</th>\n",
       "      <th>copies</th>\n",
       "      <th>cdr3_num_nts</th>\n",
       "      <th>avg_v_identity</th>\n",
       "      <th>in_frame</th>\n",
       "      <th>clones</th>\n",
       "    </tr>\n",
       "    <tr>\n",
       "      <th>replicate_name</th>\n",
       "      <th></th>\n",
       "      <th></th>\n",
       "      <th></th>\n",
       "      <th></th>\n",
       "      <th></th>\n",
       "      <th></th>\n",
       "    </tr>\n",
       "  </thead>\n",
       "  <tbody>\n",
       "    <tr>\n",
       "      <th>IgH_HPAP015_rep1_200p0ng</th>\n",
       "      <td>19195</td>\n",
       "      <td>21250</td>\n",
       "      <td>53.4805</td>\n",
       "      <td>0.960210</td>\n",
       "      <td>0.8759</td>\n",
       "      <td>10000</td>\n",
       "    </tr>\n",
       "    <tr>\n",
       "      <th>IgH_HPAP015_rep2_200p0ng</th>\n",
       "      <td>19803</td>\n",
       "      <td>21765</td>\n",
       "      <td>53.3733</td>\n",
       "      <td>0.957881</td>\n",
       "      <td>0.8635</td>\n",
       "      <td>10000</td>\n",
       "    </tr>\n",
       "    <tr>\n",
       "      <th>IgH_HPAP017_rep1_200p0ng</th>\n",
       "      <td>19731</td>\n",
       "      <td>22617</td>\n",
       "      <td>55.1513</td>\n",
       "      <td>0.973640</td>\n",
       "      <td>0.8507</td>\n",
       "      <td>10000</td>\n",
       "    </tr>\n",
       "    <tr>\n",
       "      <th>IgH_HPAP017_rep2_200p0ng</th>\n",
       "      <td>23410</td>\n",
       "      <td>27914</td>\n",
       "      <td>54.7887</td>\n",
       "      <td>0.971429</td>\n",
       "      <td>0.8530</td>\n",
       "      <td>10000</td>\n",
       "    </tr>\n",
       "  </tbody>\n",
       "</table>\n",
       "</div>"
      ],
      "text/plain": [
       "                          uniques  copies  cdr3_num_nts  avg_v_identity  \\\n",
       "replicate_name                                                            \n",
       "IgH_HPAP015_rep1_200p0ng    19195   21250       53.4805        0.960210   \n",
       "IgH_HPAP015_rep2_200p0ng    19803   21765       53.3733        0.957881   \n",
       "IgH_HPAP017_rep1_200p0ng    19731   22617       55.1513        0.973640   \n",
       "IgH_HPAP017_rep2_200p0ng    23410   27914       54.7887        0.971429   \n",
       "\n",
       "                          in_frame  clones  \n",
       "replicate_name                              \n",
       "IgH_HPAP015_rep1_200p0ng    0.8759   10000  \n",
       "IgH_HPAP015_rep2_200p0ng    0.8635   10000  \n",
       "IgH_HPAP017_rep1_200p0ng    0.8507   10000  \n",
       "IgH_HPAP017_rep2_200p0ng    0.8530   10000  "
      ]
     },
     "execution_count": 3,
     "metadata": {},
     "output_type": "execute_result"
    }
   ],
   "source": [
    "metadata.make_metadata_table(df, 'replicate_name')"
   ]
  },
  {
   "cell_type": "markdown",
   "id": "95ffcad8-e7c7-46b3-86d5-14ac84217612",
   "metadata": {},
   "source": [
    "## Generate a metadata table by subject/disease"
   ]
  },
  {
   "cell_type": "code",
   "execution_count": 9,
   "id": "8e543e10-9749-4410-a601-414d0400b673",
   "metadata": {},
   "outputs": [
    {
     "data": {
      "text/html": [
       "<div>\n",
       "<style scoped>\n",
       "    .dataframe tbody tr th:only-of-type {\n",
       "        vertical-align: middle;\n",
       "    }\n",
       "\n",
       "    .dataframe tbody tr th {\n",
       "        vertical-align: top;\n",
       "    }\n",
       "\n",
       "    .dataframe thead th {\n",
       "        text-align: right;\n",
       "    }\n",
       "</style>\n",
       "<table border=\"1\" class=\"dataframe\">\n",
       "  <thead>\n",
       "    <tr style=\"text-align: right;\">\n",
       "      <th></th>\n",
       "      <th></th>\n",
       "      <th>uniques</th>\n",
       "      <th>copies</th>\n",
       "      <th>cdr3_num_nts</th>\n",
       "      <th>avg_v_identity</th>\n",
       "      <th>in_frame</th>\n",
       "      <th>clones</th>\n",
       "    </tr>\n",
       "    <tr>\n",
       "      <th>subject</th>\n",
       "      <th>disease</th>\n",
       "      <th></th>\n",
       "      <th></th>\n",
       "      <th></th>\n",
       "      <th></th>\n",
       "      <th></th>\n",
       "      <th></th>\n",
       "    </tr>\n",
       "  </thead>\n",
       "  <tbody>\n",
       "    <tr>\n",
       "      <th>HPAP015</th>\n",
       "      <th>T1D</th>\n",
       "      <td>27487</td>\n",
       "      <td>31504</td>\n",
       "      <td>52.444321</td>\n",
       "      <td>0.962745</td>\n",
       "      <td>0.888642</td>\n",
       "      <td>8109</td>\n",
       "    </tr>\n",
       "    <tr>\n",
       "      <th>HPAP017</th>\n",
       "      <th>Control</th>\n",
       "      <td>31356</td>\n",
       "      <td>38746</td>\n",
       "      <td>54.364948</td>\n",
       "      <td>0.974526</td>\n",
       "      <td>0.870252</td>\n",
       "      <td>8108</td>\n",
       "    </tr>\n",
       "  </tbody>\n",
       "</table>\n",
       "</div>"
      ],
      "text/plain": [
       "                 uniques  copies  cdr3_num_nts  avg_v_identity  in_frame  \\\n",
       "subject disease                                                            \n",
       "HPAP015 T1D        27487   31504     52.444321        0.962745  0.888642   \n",
       "HPAP017 Control    31356   38746     54.364948        0.974526  0.870252   \n",
       "\n",
       "                 clones  \n",
       "subject disease          \n",
       "HPAP015 T1D        8109  \n",
       "HPAP017 Control    8108  "
      ]
     },
     "execution_count": 9,
     "metadata": {},
     "output_type": "execute_result"
    }
   ],
   "source": [
    "pdf = (\n",
    "    df\n",
    "    .pipe(pooling.pool_by, 'disease') # Pool on disease\n",
    "    .pipe(filters.filter_by_overall_copies, 2) # Filter on 2+ copy\n",
    ")\n",
    "\n",
    "metadata.make_metadata_table(pdf, ['subject', 'disease'])"
   ]
  }
 ],
 "metadata": {
  "kernelspec": {
   "display_name": "Python 3 (ipykernel)",
   "language": "python",
   "name": "python3"
  },
  "language_info": {
   "codemirror_mode": {
    "name": "ipython",
    "version": 3
   },
   "file_extension": ".py",
   "mimetype": "text/x-python",
   "name": "python",
   "nbconvert_exporter": "python",
   "pygments_lexer": "ipython3",
   "version": "3.8.2"
  }
 },
 "nbformat": 4,
 "nbformat_minor": 5
}
