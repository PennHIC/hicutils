{
 "cells": [
  {
   "cell_type": "markdown",
   "id": "9ee51acb-ad9c-469c-ac47-401a3a31d661",
   "metadata": {
    "tags": []
   },
   "source": [
    "## Filtering by functionality and copies\n",
    "This example shows how to remove non-functional clones and any clone with less than 5 copies across all samples in the subject."
   ]
  },
  {
   "cell_type": "code",
   "execution_count": 1,
   "id": "1e6eaa2a-aea4-4abb-a5fc-0f45c54d6882",
   "metadata": {},
   "outputs": [
    {
     "data": {
      "text/plain": [
       "'Total Functional, 5+ Copy Clones:'"
      ]
     },
     "metadata": {},
     "output_type": "display_data"
    },
    {
     "data": {
      "text/plain": [
       "subject\n",
       "HPAP015    1951\n",
       "HPAP017    2391\n",
       "Name: clone_id, dtype: int64"
      ]
     },
     "metadata": {},
     "output_type": "display_data"
    }
   ],
   "source": [
    "import hicutils as hu\n",
    "\n",
    "df = hu.io.read_directory('example_data_immunedb')\n",
    "filtered_df = (\n",
    "    df\n",
    "    .pipe(hu.filters.filter_functional)\n",
    "    .pipe(hu.filters.filter_by_overall_copies, 5)\n",
    ")\n",
    "display('Total Functional, 5+ Copy Clones:',\n",
    "        filtered_df.groupby('subject').clone_id.nunique())"
   ]
  },
  {
   "cell_type": "markdown",
   "id": "5be20483-7622-4ae3-b062-e31ef473d2ed",
   "metadata": {},
   "source": [
    "## Filtering clones based on presence in replicates\n",
    "The following examples show different ways of filtering clones based on copies and whether or not they're found in certain replicates.\n",
    "\n",
    "In this first example, clones in less than two replicates are excluded."
   ]
  },
  {
   "cell_type": "code",
   "execution_count": 2,
   "id": "50820dfc-6a93-42ce-8f75-58d04043fcf6",
   "metadata": {},
   "outputs": [
    {
     "data": {
      "text/plain": [
       "'There are 487 clones in any two or more replicates'"
      ]
     },
     "metadata": {},
     "output_type": "display_data"
    }
   ],
   "source": [
    "df = hu.io.read_directory('example_data_immunedb')\n",
    "pdf = hu.filters.filter_number_of_pools(df, 'replicate_name', 2)\n",
    "display(f'There are {pdf.clone_id.nunique()} clones in any two or more replicates')"
   ]
  },
  {
   "cell_type": "markdown",
   "id": "e4fff130-483c-4222-ac99-76ffaa5ca122",
   "metadata": {},
   "source": [
    "It is also possible to limit the pools (replicates in this case) to check for overlap.  For example, this code snippet looks for clones that are in both of the `HPAP015` replicates."
   ]
  },
  {
   "cell_type": "code",
   "execution_count": 3,
   "id": "ccad9e68-108a-464f-97fe-98bcf6998e2a",
   "metadata": {},
   "outputs": [
    {
     "data": {
      "text/plain": [
       "'There are 380 clones in both replicates IgH_HPAP015_rep1_200p0ng, IgH_HPAP015_rep2_200p0ng'"
      ]
     },
     "metadata": {},
     "output_type": "display_data"
    }
   ],
   "source": [
    "limit_reps = [\n",
    "    'IgH_HPAP015_rep1_200p0ng', 'IgH_HPAP015_rep2_200p0ng'\n",
    "]\n",
    "pdf = hu.filters.filter_number_of_pools(df, 'replicate_name', 2, limit_to=limit_reps)\n",
    "display(f'There are {pdf.clone_id.nunique()} clones in both '\n",
    "        f'replicates {\", \".join(limit_reps)}')"
   ]
  },
  {
   "cell_type": "markdown",
   "id": "26bda30a-65f2-4a1e-b376-b0d8852fe5d5",
   "metadata": {},
   "source": [
    "This example below removes any clone found in `IgH_HPAP015_rep1_200p0ng`"
   ]
  },
  {
   "cell_type": "code",
   "execution_count": 4,
   "id": "270b811e-b36c-4542-ac86-0a7d1e2f8f70",
   "metadata": {},
   "outputs": [
    {
     "data": {
      "text/plain": [
       "'There are 19620 HPAP015 clones NOT in IgH_HPAP015_rep1_200p0ng'"
      ]
     },
     "metadata": {},
     "output_type": "display_data"
    }
   ],
   "source": [
    "pdf = hu.filters.filter_number_of_pools(\n",
    "    df[df.subject == 'HPAP015'],\n",
    "    'replicate_name',\n",
    "    0,\n",
    "    limit_to=['IgH_HPAP015_rep1_200p0ng']\n",
    ")\n",
    "display(f'There are {pdf.clone_id.nunique()} HPAP015 clones '\n",
    "        'NOT in IgH_HPAP015_rep1_200p0ng')"
   ]
  },
  {
   "cell_type": "code",
   "execution_count": null,
   "id": "b6704aae-33a2-456e-b117-b7e91d631e59",
   "metadata": {},
   "outputs": [],
   "source": []
  }
 ],
 "metadata": {
  "kernelspec": {
   "display_name": "Python 3 (ipykernel)",
   "language": "python",
   "name": "python3"
  },
  "language_info": {
   "codemirror_mode": {
    "name": "ipython",
    "version": 3
   },
   "file_extension": ".py",
   "mimetype": "text/x-python",
   "name": "python",
   "nbconvert_exporter": "python",
   "pygments_lexer": "ipython3",
   "version": "3.8.2"
  }
 },
 "nbformat": 4,
 "nbformat_minor": 5
}
